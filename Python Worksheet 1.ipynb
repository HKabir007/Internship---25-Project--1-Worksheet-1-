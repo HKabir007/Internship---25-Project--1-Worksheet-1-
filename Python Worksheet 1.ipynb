{
 "cells": [
  {
   "cell_type": "markdown",
   "id": "38408e3b",
   "metadata": {},
   "source": [
    "# PYTHON WORKSHEET 1"
   ]
  },
  {
   "cell_type": "markdown",
   "id": "536c6759",
   "metadata": {},
   "source": [
    "Q1: Which of the following operator is used to calculate reminder in a division?"
   ]
  },
  {
   "cell_type": "code",
   "execution_count": 1,
   "id": "5079cdc1",
   "metadata": {},
   "outputs": [
    {
     "data": {
      "text/plain": [
       "3"
      ]
     },
     "execution_count": 1,
     "metadata": {},
     "output_type": "execute_result"
    }
   ],
   "source": [
    "#Answer is '%'\n",
    "15%4"
   ]
  },
  {
   "cell_type": "markdown",
   "id": "bc274db0",
   "metadata": {},
   "source": [
    "Q2: In Python 2//3 is equal to?"
   ]
  },
  {
   "cell_type": "code",
   "execution_count": 2,
   "id": "b24ecc8e",
   "metadata": {},
   "outputs": [
    {
     "data": {
      "text/plain": [
       "0"
      ]
     },
     "execution_count": 2,
     "metadata": {},
     "output_type": "execute_result"
    }
   ],
   "source": [
    "#Answer is 0\n",
    "2//3"
   ]
  },
  {
   "cell_type": "markdown",
   "id": "faa2ad9a",
   "metadata": {},
   "source": [
    "In Python, 6<<2 is equal to?"
   ]
  },
  {
   "cell_type": "code",
   "execution_count": 3,
   "id": "ced6d882",
   "metadata": {},
   "outputs": [
    {
     "data": {
      "text/plain": [
       "24"
      ]
     },
     "execution_count": 3,
     "metadata": {},
     "output_type": "execute_result"
    }
   ],
   "source": [
    "#Answer is 24\n",
    "6<<2"
   ]
  },
  {
   "cell_type": "markdown",
   "id": "201f7179",
   "metadata": {},
   "source": [
    "In Python, 6&2 will give value?"
   ]
  },
  {
   "cell_type": "code",
   "execution_count": 6,
   "id": "6d181841",
   "metadata": {},
   "outputs": [
    {
     "data": {
      "text/plain": [
       "2"
      ]
     },
     "execution_count": 6,
     "metadata": {},
     "output_type": "execute_result"
    }
   ],
   "source": [
    "#Answer is 2\n",
    "6&2"
   ]
  },
  {
   "cell_type": "markdown",
   "id": "ecb36ad2",
   "metadata": {},
   "source": [
    "Q5: In Python, 6|2 will value?"
   ]
  },
  {
   "cell_type": "code",
   "execution_count": 8,
   "id": "de922dff",
   "metadata": {},
   "outputs": [
    {
     "data": {
      "text/plain": [
       "6"
      ]
     },
     "execution_count": 8,
     "metadata": {},
     "output_type": "execute_result"
    }
   ],
   "source": [
    "#Anwser is 6\n",
    "6|2"
   ]
  },
  {
   "cell_type": "markdown",
   "id": "9538e564",
   "metadata": {},
   "source": [
    "Q6: What does finally keyword denotes in python?"
   ]
  },
  {
   "cell_type": "markdown",
   "id": "262f5c4a",
   "metadata": {},
   "source": [
    "Answer: It encloses the lines of code which will be executed if any error occurs while executing the lines of code in the try block."
   ]
  },
  {
   "cell_type": "markdown",
   "id": "3feced47",
   "metadata": {},
   "source": [
    "Q7: What does raise keyword is used for in python?"
   ]
  },
  {
   "cell_type": "markdown",
   "id": "882a61c2",
   "metadata": {},
   "source": [
    "Answer: It is used to raise an exception."
   ]
  },
  {
   "cell_type": "markdown",
   "id": "b426c525",
   "metadata": {},
   "source": [
    "Q8: Which of the following is a common use case of yield keyword in python?"
   ]
  },
  {
   "cell_type": "markdown",
   "id": "d21e248f",
   "metadata": {},
   "source": [
    "Answer: in defining an iterator"
   ]
  },
  {
   "cell_type": "markdown",
   "id": "667127d8",
   "metadata": {},
   "source": [
    "Q9: Which of the following are the valid variable names?"
   ]
  },
  {
   "cell_type": "markdown",
   "id": "6faa2ad4",
   "metadata": {},
   "source": [
    "Answer: A) _abc\n",
    "    B) 1abc\n",
    "    C) abc2"
   ]
  },
  {
   "cell_type": "markdown",
   "id": "89a4e7fd",
   "metadata": {},
   "source": [
    "Q10: Which of the following are the keywords in python?"
   ]
  },
  {
   "cell_type": "markdown",
   "id": "1b9dd9e9",
   "metadata": {},
   "source": [
    "Answer: A) yield\n",
    "        B) raise"
   ]
  },
  {
   "cell_type": "markdown",
   "id": "7a764311",
   "metadata": {},
   "source": [
    "Q11: Write a python program to find the factorial of a number."
   ]
  },
  {
   "cell_type": "code",
   "execution_count": 1,
   "id": "0da93033",
   "metadata": {},
   "outputs": [
    {
     "name": "stdout",
     "output_type": "stream",
     "text": [
      "Factorial of 5 is 120\n"
     ]
    }
   ],
   "source": [
    "def factorial(n):  \n",
    "\treturn 1 if (n==1 or n==0) else n * factorial(n - 1);   \n",
    " \n",
    "num = 5;  \n",
    "print(\"Factorial of\",num,\"is\",  \n",
    "factorial(num)) "
   ]
  },
  {
   "cell_type": "code",
   "execution_count": 2,
   "id": "633c29dd",
   "metadata": {},
   "outputs": [
    {
     "name": "stdout",
     "output_type": "stream",
     "text": [
      "6\n"
     ]
    }
   ],
   "source": [
    "print(factorial(3))"
   ]
  },
  {
   "cell_type": "markdown",
   "id": "15ba727a",
   "metadata": {},
   "source": [
    "Q12: Write a python program to find whether a number is prime or composite."
   ]
  },
  {
   "cell_type": "code",
   "execution_count": 6,
   "id": "db7e1e5b",
   "metadata": {},
   "outputs": [
    {
     "name": "stdout",
     "output_type": "stream",
     "text": [
      "Enter a number: 24\n",
      "24 i a composite number\n"
     ]
    }
   ],
   "source": [
    "num = int(input(\"Enter a number: \"))\n",
    "\n",
    "# prime numbers are greater than 1\n",
    "if num > 1:\n",
    "    for i in range(2,num):\n",
    "        if(num % i) == 0:\n",
    "            print(num,\"i a composite number\")\n",
    "            break\n",
    "    else:\n",
    "        print(num,\"is a prime number\")\n",
    "        \n",
    "else:\n",
    "    print(num,\"is not a prime number\")"
   ]
  },
  {
   "cell_type": "code",
   "execution_count": 7,
   "id": "836ea396",
   "metadata": {},
   "outputs": [
    {
     "name": "stdout",
     "output_type": "stream",
     "text": [
      "Enter a number: 37\n",
      "37 is a prime number\n"
     ]
    }
   ],
   "source": [
    "num = int(input(\"Enter a number: \"))\n",
    "\n",
    "# prime numbers are greater than 1\n",
    "if num > 1:\n",
    "    for i in range(2,num):\n",
    "        if(num % i) == 0:\n",
    "            print(num,\"i a composite number\")\n",
    "            break\n",
    "    else:\n",
    "        print(num,\"is a prime number\")\n",
    "        \n",
    "else:\n",
    "    print(num,\"is not a prime number\")"
   ]
  },
  {
   "cell_type": "markdown",
   "id": "7fc570f1",
   "metadata": {},
   "source": [
    "Q13: Write a python program to check whether a given string is palindrome or not."
   ]
  },
  {
   "cell_type": "code",
   "execution_count": 14,
   "id": "65cc7937",
   "metadata": {},
   "outputs": [
    {
     "name": "stdout",
     "output_type": "stream",
     "text": [
      "Please enter your own String : dad\n",
      "This is a Palindrome String\n"
     ]
    }
   ],
   "source": [
    "string = input(\"Please enter your own String : \")\n",
    "if(string == string[:: - 1]):\n",
    "    print(\"This is a Palindrome String\")\n",
    "else:\n",
    "    print(\"This is Not a Palindrome String\")"
   ]
  },
  {
   "cell_type": "code",
   "execution_count": 15,
   "id": "cb232d0f",
   "metadata": {},
   "outputs": [
    {
     "name": "stdout",
     "output_type": "stream",
     "text": [
      "Please enter your own String : good\n",
      "This is Not a Palindrome String\n"
     ]
    }
   ],
   "source": [
    "string = input(\"Please enter your own String : \")\n",
    "if(string == string[:: - 1]):\n",
    "    print(\"This is a Palindrome String\")\n",
    "else:\n",
    "    print(\"This is Not a Palindrome String\")"
   ]
  },
  {
   "cell_type": "markdown",
   "id": "f9938f16",
   "metadata": {},
   "source": [
    "Q14: Write a Python program to get the third side of right-angled triangle from two given sides."
   ]
  },
  {
   "cell_type": "code",
   "execution_count": 16,
   "id": "4076c3c8",
   "metadata": {},
   "outputs": [
    {
     "name": "stdout",
     "output_type": "stream",
     "text": [
      "Enter base: 3\n",
      "Enter height: 4\n",
      "Enter angle: 90\n",
      "Hypotenuse = 5.0\n"
     ]
    }
   ],
   "source": [
    " import math\n",
    "\n",
    "a = float(input(\"Enter base: \"))\n",
    "b = float(input(\"Enter height: \"))\n",
    "x = float(input(\"Enter angle: \"))\n",
    "\n",
    "c = math.sqrt(a ** 2 + b ** 2)\n",
    "\n",
    "print(\"Hypotenuse =\", c)"
   ]
  },
  {
   "cell_type": "markdown",
   "id": "9dc53a0b",
   "metadata": {},
   "source": [
    "Q15: Write a python program to print the frequency of each of the characters present in a given string."
   ]
  },
  {
   "cell_type": "code",
   "execution_count": 18,
   "id": "e7269030",
   "metadata": {},
   "outputs": [
    {
     "name": "stdout",
     "output_type": "stream",
     "text": [
      "{'g': 2, 'o': 3, 'l': 1, 'e': 1, '.': 1, 'c': 1, 'm': 1}\n"
     ]
    }
   ],
   "source": [
    "def char_frequency(str1):\n",
    "    dict = {}\n",
    "    for n in str1:\n",
    "        keys = dict.keys()\n",
    "        if n in keys:\n",
    "            dict[n] += 1\n",
    "        else:\n",
    "            dict[n] = 1\n",
    "    return dict\n",
    "print(char_frequency('google.com'))"
   ]
  },
  {
   "cell_type": "code",
   "execution_count": 20,
   "id": "69de8d49",
   "metadata": {},
   "outputs": [
    {
     "name": "stdout",
     "output_type": "stream",
     "text": [
      "{'b': 1, 'e': 1, 'a': 1, 'u': 2, 't': 1, 'i': 1, 'f': 1, 'l': 1}\n"
     ]
    }
   ],
   "source": [
    "print(char_frequency('beautiful'))"
   ]
  },
  {
   "cell_type": "code",
   "execution_count": null,
   "id": "8c092c65",
   "metadata": {},
   "outputs": [],
   "source": []
  }
 ],
 "metadata": {
  "kernelspec": {
   "display_name": "Python 3",
   "language": "python",
   "name": "python3"
  },
  "language_info": {
   "codemirror_mode": {
    "name": "ipython",
    "version": 3
   },
   "file_extension": ".py",
   "mimetype": "text/x-python",
   "name": "python",
   "nbconvert_exporter": "python",
   "pygments_lexer": "ipython3",
   "version": "3.8.8"
  }
 },
 "nbformat": 4,
 "nbformat_minor": 5
}
